{
 "cells": [
  {
   "cell_type": "code",
   "execution_count": 1,
   "metadata": {
    "collapsed": false,
    "tags": [
     "worksheet-0"
    ]
   },
   "outputs": [
    {
     "name": "stdout",
     "output_type": "stream",
     "text": [
      "Using matplotlib backend: Qt5Agg\n",
      "Populating the interactive namespace from numpy and matplotlib\n"
     ]
    }
   ],
   "source": [
    "import os, sys\n",
    "from utils import FeatureCollection, RBins\n",
    "import cfg as c\n",
    "\n",
    "%pylab\n",
    "%matplotlib inline\n",
    "%load_ext autoreload\n",
    "%autoreload 2"
   ]
  },
  {
   "cell_type": "code",
   "execution_count": null,
   "metadata": {
    "collapsed": false,
    "tags": [
     "worksheet-0"
    ]
   },
   "outputs": [],
   "source": [
    "rbs = RBins(c.LON, c.LAT, c.ROT * np.pi / 180, c.GRID_SIZE, dia_fac=c.DIAF)\n",
    "\n",
    "print rbs.trf_mat, rbs.x0, rbs.y0\n",
    "\n",
    "assert rbs.inv_trans(0, 0) == (c.LON, c.LAT)\n",
    "assert rbs.trans(c.LON, c.LAT) == (0, 0)\n",
    "\n",
    "# Testing\n",
    "for x, y in [(0, 1), (100, 100), (0, 0), (112, 23), (1, 0)]:\n",
    "    xp, yp = rbs.trans(*rbs.inv_trans(x, y))\n",
    "    assert np.isclose(xp, x) and np.isclose(yp, y), (x, y, xp, yp)\n",
    "\n",
    "fc = FeatureCollection()\n",
    "for i in range(c.XSIZE):\n",
    "    for j in range(c.YSIZE):\n",
    "        fc.add_polygon(rbs.get_poly(i, j), {})\n",
    "fc.dump('test.geojson')"
   ]
  },
  {
   "cell_type": "code",
   "execution_count": 6,
   "metadata": {
    "collapsed": false,
    "tags": [
     "worksheet-0"
    ]
   },
   "outputs": [
    {
     "data": {
      "text/plain": [
       "[<matplotlib.lines.Line2D at 0x7fc02229db70>]"
      ]
     },
     "execution_count": 6,
     "metadata": {},
     "output_type": "execute_result"
    },
    {
     "data": {
      "image/png": "[encoded data removed]",
      "text/plain": [
       "<matplotlib.figure.Figure at 0x7fc02229d908>"
      ]
     },
     "metadata": {},
     "output_type": "display_data"
    }
   ],
   "source": [
    "font = {'family' : 'normal',\n",
    "        'size'   : 13}\n",
    "\n",
    "matplotlib.rc('font', **font)\n",
    "\n",
    "box = 0.285\n",
    "\n",
    "x = np.array(range(1, 15)) * box\n",
    "y = np.array([9720, 5001, 3446, 2707, 2295, 2039, 1886, 1788, 1675, 1607, 1586, 1575, 1568, 1568]) / 2\n",
    "\n",
    "plt.xlabel('Radius of Attack (km)')\n",
    "plt.ylabel('Total Attack Rate (number per hour)')\n",
    "#plt.xlim((box, 14*box))\n",
    "#plt.xticks(x)\n",
    "plt.tick_params(labelsize=13)\n",
    "plt.plot(x, y)"
   ]
  },
  {
   "cell_type": "code",
   "execution_count": null,
   "metadata": {
    "collapsed": true
   },
   "outputs": [],
   "source": []
  }
 ],
 "metadata": {
  "kernelspec": {
   "display_name": "Python 3",
   "language": "python",
   "name": "python3"
  },
  "language_info": {
   "codemirror_mode": {
    "name": "ipython",
    "version": 3
   },
   "file_extension": ".py",
   "mimetype": "text/x-python",
   "name": "python",
   "nbconvert_exporter": "python",
   "pygments_lexer": "ipython3",
   "version": "3.4.3"
  },
  "name": "NYC-Rotated-Box.ipynb"
 },
 "nbformat": 4,
 "nbformat_minor": 0
}
