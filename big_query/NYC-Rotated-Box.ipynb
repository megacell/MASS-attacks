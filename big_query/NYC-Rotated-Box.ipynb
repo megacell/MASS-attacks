{
 "cells": [
  {
   "cell_type": "code",
   "execution_count": 1,
   "metadata": {
    "collapsed": false,
    "tags": [
     "worksheet-0"
    ]
   },
   "outputs": [],
   "source": [
    "import os, sys\n",
    "from utils import FeatureCollection, RBins\n",
    "import cfg as c\n",
    "import numpy as np\n",
    "\n",
    "%matplotlib inline\n",
    "%load_ext autoreload\n",
    "%autoreload 2"
   ]
  },
  {
   "cell_type": "code",
   "execution_count": 2,
   "metadata": {
    "collapsed": false,
    "tags": [
     "worksheet-0"
    ]
   },
   "outputs": [
    {
     "name": "stdout",
     "output_type": "stream",
     "text": [
      "[[ 0.80901699 -0.58778525]\n",
      " [ 0.39766626  0.94714653]] -74.038658 40.711516\n"
     ]
    }
   ],
   "source": [
    "rbs = RBins(c.LON, c.LAT, c.ROT * np.pi / 180, c.GRID_SIZE, dia_fac=c.DIAF)\n",
    "\n",
    "print rbs.trf_mat, rbs.x0, rbs.y0\n",
    "\n",
    "assert rbs.inv_trans(0, 0) == (c.LON, c.LAT)\n",
    "assert rbs.trans(c.LON, c.LAT) == (0, 0)\n",
    "\n",
    "# Testing\n",
    "for x, y in [(0, 1), (100, 100), (0, 0), (112, 23), (1, 0)]:\n",
    "    xp, yp = rbs.trans(*rbs.inv_trans(x, y))\n",
    "    assert np.isclose(xp, x) and np.isclose(yp, y), (x, y, xp, yp)\n",
    "\n",
    "fc = FeatureCollection()\n",
    "for i in range(c.XSIZE):\n",
    "    for j in range(c.YSIZE):\n",
    "        fc.add_polygon(rbs.get_poly(i, j), {})\n",
    "fc.dump('test.geojson')"
   ]
  }
 ],
 "metadata": {},
 "nbformat": 4,
 "nbformat_minor": 0
}
